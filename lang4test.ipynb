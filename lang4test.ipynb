{
 "cells": [
  {
   "cell_type": "code",
   "execution_count": 1,
   "metadata": {},
   "outputs": [
    {
     "data": {
      "text/plain": [
       "True"
      ]
     },
     "execution_count": 1,
     "metadata": {},
     "output_type": "execute_result"
    }
   ],
   "source": [
    "# API 키를 환경변수로 관리하기 위한 설정 파일\n",
    "from dotenv import load_dotenv\n",
    "\n",
    "# API 키 정보 로드\n",
    "load_dotenv()"
   ]
  },
  {
   "cell_type": "code",
   "execution_count": 174,
   "metadata": {},
   "outputs": [],
   "source": [
    "from typing import Annotated\n",
    "from typing_extensions import TypedDict, Dict\n",
    "from langchain_teddynote.tools.tavily import TavilySearch\n",
    "from langgraph.checkpoint.memory import MemorySaver\n",
    "from langgraph.graph import StateGraph, START, END\n",
    "from langgraph.graph.message import add_messages\n",
    "from langgraph.prebuilt import ToolNode, tools_condition\n",
    "from langchain_openai import ChatOpenAI"
   ]
  },
  {
   "cell_type": "code",
   "execution_count": 175,
   "metadata": {},
   "outputs": [],
   "source": [
    "class State(TypedDict):\n",
    "    # 메시지 목록\n",
    "    messages: Annotated[list, add_messages]\n",
    "    # 사람에게 질문할지 여부를 묻는 상태 추가\n",
    "    ask_human: bool"
   ]
  },
  {
   "cell_type": "code",
   "execution_count": 4,
   "metadata": {},
   "outputs": [],
   "source": [
    "from pydantic import BaseModel\n",
    "\n",
    "\n",
    "class HumanRequest(BaseModel):\n",
    "    \"\"\"Forward the conversation to an expert. Use when you can't assist directly or the user needs assistance that exceeds your authority.\n",
    "    To use this function, pass the user's 'request' so that an expert can provide appropriate guidance.\n",
    "    \"\"\"\n",
    "\n",
    "    request: str"
   ]
  },
  {
   "cell_type": "code",
   "execution_count": 180,
   "metadata": {},
   "outputs": [],
   "source": [
    "class Location(TypedDict):\n",
    "    \"\"\"사용자에게 지역을 입력받고, 몇박 몇일 여행할지 입력받고,\n",
    "    여행 인원이 총 몇명인지 입력받고 네이버 지역 api tool에 연결 해준다.\n",
    "    \"\"\"\n",
    "    messages: Annotated[list, add_messages]\n",
    "    location: str\n",
    "    travel_days: str\n",
    "    travel_num: int\n",
    "\n",
    "# 사용자 입력 데이터 스키마 정의\n",
    "class UserInput(BaseModel):\n",
    "    user_input: str\n",
    "    config: Dict[str, Dict[str, str]]\n",
    "\n",
    "from langchain.prompts import PromptTemplate\n",
    "from langchain_openai import ChatOpenAI\n",
    "from langchain.schema import AIMessage, HumanMessage\n",
    "import json\n",
    "\n",
    "# LLM 모델 정의\n",
    "llm = ChatOpenAI(model=\"gpt-4o-mini\", temperature=0)\n",
    "\n",
    "# 프롬프트 템플릿 정의\n",
    "prompt_template = PromptTemplate(\n",
    "    input_variables=[\"user_input\"],\n",
    "    template=\"\"\"\n",
    "    사용자의 입력에서 지역, 여행 기간(며칠), 그리고 인원을 추출하세요.\n",
    "    응답 형식은 JSON으로 제공하세요:\n",
    "    {{\n",
    "        \"location\": \"<지역>\",\n",
    "        \"travel_days\": \"<며칠>\",\n",
    "        \"travel_num\": <인원 수>\n",
    "    }}\n",
    "    사용자 입력: {user_input}\n",
    "    \"\"\"\n",
    ")\n",
    "state = StateGraph(Location)\n",
    "\n",
    "def dummy(state:Location):\n",
    "    \"\"\"초기 입력값 설정\"\"\"\n",
    "    return {\"messages\": []}\n",
    "\n",
    "def extract_location(user_input: str)-> Location:\n",
    "    \"\"\"LLM을 이용해 사용자 입력에서 Location 정보를 추출\"\"\"\n",
    "    prompt = prompt_template.format(user_input=user_input)\n",
    "    response = llm.invoke(prompt)  # LLM으로부터 응답 받기\n",
    "\n",
    "    return {\"messages\": [response]}\n",
    "\n",
    "# async def run_workflow(user_input: str, config: dict):\n",
    "#     # graph.invoke 실행\n",
    "#     result = await graph.invoke({\"messages\": user_input}, config, stream_mode=\"values\")\n",
    "#     return result\n",
    "\n",
    "\n",
    "# state = Location(location=\"서울\", travel_days=\"1박2일\", travel_num=3)\n",
    "\n",
    "\n",
    "# workflow = StateGraph(Location)\n",
    "\n",
    "# process(state)"
   ]
  },
  {
   "cell_type": "code",
   "execution_count": 182,
   "metadata": {},
   "outputs": [
    {
     "name": "stdout",
     "output_type": "stream",
     "text": [
      "state: {'messages': [HumanMessage(content='서울 1박2일 3명', additional_kwargs={}, response_metadata={}, id='c34d7af3-bd7b-4a9f-8fb8-dfdab7fa3fc9'), AIMessage(content='```json\\n{\\n    \"location\": \"서울\",\\n    \"travel_days\": \"1박2일\",\\n    \"travel_num\": 3\\n}\\n```', additional_kwargs={'refusal': None}, response_metadata={'token_usage': {'completion_tokens': 33, 'prompt_tokens': 84, 'total_tokens': 117, 'completion_tokens_details': {'accepted_prediction_tokens': 0, 'audio_tokens': 0, 'reasoning_tokens': 0, 'rejected_prediction_tokens': 0}, 'prompt_tokens_details': {'audio_tokens': 0, 'cached_tokens': 0}}, 'model_name': 'gpt-4o-mini-2024-07-18', 'system_fingerprint': 'fp_72ed7ab54c', 'finish_reason': 'stop', 'logprobs': None}, id='run-338713b7-4b9d-415b-8174-ee0cf8972d3b-0', usage_metadata={'input_tokens': 84, 'output_tokens': 33, 'total_tokens': 117, 'input_token_details': {'audio': 0, 'cache_read': 0}, 'output_token_details': {'audio': 0, 'reasoning': 0}})]}\n",
      "<class 'dict'>\n",
      "response:['```json\\n{\\n    \"location\": \"서울\",\\n    \"travel_days\": \"1박2일\",\\n    \"travel_num\": 3\\n}\\n```']\n",
      "<class 'list'>\n",
      "<class 'str'>\n",
      "parsed_data: {'location': '서울', 'travel_days': '1박2일', 'travel_num': 3}\n"
     ]
    },
    {
     "data": {
      "text/plain": [
       "{'messages': [HumanMessage(content='서울 1박2일 3명', additional_kwargs={}, response_metadata={}, id='c34d7af3-bd7b-4a9f-8fb8-dfdab7fa3fc9'),\n",
       "  AIMessage(content='```json\\n{\\n    \"location\": \"서울\",\\n    \"travel_days\": \"1박2일\",\\n    \"travel_num\": 3\\n}\\n```', additional_kwargs={'refusal': None}, response_metadata={'token_usage': {'completion_tokens': 33, 'prompt_tokens': 84, 'total_tokens': 117, 'completion_tokens_details': {'accepted_prediction_tokens': 0, 'audio_tokens': 0, 'reasoning_tokens': 0, 'rejected_prediction_tokens': 0}, 'prompt_tokens_details': {'audio_tokens': 0, 'cached_tokens': 0}}, 'model_name': 'gpt-4o-mini-2024-07-18', 'system_fingerprint': 'fp_72ed7ab54c', 'finish_reason': 'stop', 'logprobs': None}, id='run-338713b7-4b9d-415b-8174-ee0cf8972d3b-0', usage_metadata={'input_tokens': 84, 'output_tokens': 33, 'total_tokens': 117, 'input_token_details': {'audio': 0, 'cache_read': 0}, 'output_token_details': {'audio': 0, 'reasoning': 0}})],\n",
       " 'location': '서울',\n",
       " 'travel_days': '1박2일',\n",
       " 'travel_num': 3}"
      ]
     },
     "execution_count": 182,
     "metadata": {},
     "output_type": "execute_result"
    }
   ],
   "source": [
    "\n",
    "# 상태를 처리하는 함수 정의\n",
    "def process(state: Location):\n",
    "    print(f\"{state.location}에서 {state.travel_days} 동안 {state.travel_num}명이 여행합니다.\")\n",
    "\n",
    "\n",
    "\n",
    "# 노드 추가: 사용자 입력을 받아 상태 생성\n",
    "def input_processing(state: Location):\n",
    "    return extract_location(user_input)\n",
    "\n",
    "# 노드 추가: 상태를 처리\n",
    "def process_location(state: Location) -> Location:\n",
    "    print(f\"state: {state}\")\n",
    "    print(type(state))\n",
    "\n",
    "    response = [item.content for item in state[\"messages\"] if isinstance(item, AIMessage)\n",
    "\n",
    "    ]\n",
    "    \n",
    "    print(f\"response:{response}\")\n",
    "\n",
    "    # print(type(response[0].content))\n",
    "    # res = response[0].content\n",
    "    print(type(response))\n",
    "    print(type(response[0]))\n",
    "\n",
    "    if response:  # 응답이 비어 있지 않을 경우\n",
    "        clean_content = response[0].strip(\"```json\").strip(\"```\").strip()  # JSON 문자열 추출\n",
    "        parsed_data = json.loads(clean_content)  # JSON 파싱\n",
    "        print(f\"parsed_data: {parsed_data}\")\n",
    "        return {\n",
    "            \"location\": parsed_data[\"location\"],\n",
    "            \"travel_days\": parsed_data[\"travel_days\"],\n",
    "            \"travel_num\": parsed_data[\"travel_num\"]\n",
    "        }       \n",
    "    \n",
    "    return input_processing\n",
    "\n",
    "\n",
    "\n",
    "# LangGraph 워크플로우 정의\n",
    "workflow = StateGraph(Location)\n",
    "\n",
    "\n",
    "workflow.add_node(\"dummy\", dummy)\n",
    "workflow.add_node(\"input_processing\", input_processing)\n",
    "workflow.add_node(\"process_location\", process_location)\n",
    "\n",
    "# 두 노드를 연결\n",
    "workflow.add_edge(START, \"dummy\")\n",
    "workflow.add_edge(\"dummy\", \"input_processing\" )\n",
    "workflow.add_edge(\"input_processing\", \"process_location\")\n",
    "# workflow.add_edge(\"input_processing\", END)\n",
    "workflow.add_edge(\"process_location\", END)\n",
    "\n",
    "graph = workflow.compile()\n",
    "\n",
    "user_input = input(\"지역, 일정, 인원을 입력해주세요 (서울 1박2일 3명)\")\n",
    "\n",
    "config = {\"configurable\": {\"thread_id\": \"2\"}}\n",
    "# 워크플로우 실행\n",
    "graph.invoke({\"messages\": user_input} ,config, stream_mode=\"values\")\n",
    "# print(graph)"
   ]
  },
  {
   "cell_type": "code",
   "execution_count": 10,
   "metadata": {},
   "outputs": [
    {
     "name": "stderr",
     "output_type": "stream",
     "text": [
      "d:\\pythonSrc\\tourGuide\\backend\\venv\\Lib\\site-packages\\IPython\\core\\interactiveshell.py:3517: UserWarning: WARNING! temperatur is not default parameter.\n",
      "                temperatur was transferred to model_kwargs.\n",
      "                Please confirm that temperatur is what you intended.\n",
      "  if await self.run_code(code, result, async_=asy):\n"
     ]
    }
   ],
   "source": [
    "tools = [Location]\n",
    "\n",
    "llm = ChatOpenAI(model=\"gpt-4o-mini\", temperatur=0)\n",
    "\n",
    "llm_with_tools = llm.bind_tools(tools)\n",
    "\n",
    "def chatbot(state: State):\n",
    "    # LLM 도구 호출을 통한 응답 생성\n",
    "    response = llm_with_tools.invoke(state[\"messages\"])\n",
    "\n",
    "\n",
    "    # 메시지와 ask_human 상태 반환\n",
    "    return {\"messages\": [response]}\n",
    "\n"
   ]
  },
  {
   "cell_type": "code",
   "execution_count": 11,
   "metadata": {},
   "outputs": [
    {
     "data": {
      "text/plain": [
       "<langgraph.graph.state.StateGraph at 0x1722b44df70>"
      ]
     },
     "execution_count": 11,
     "metadata": {},
     "output_type": "execute_result"
    }
   ],
   "source": [
    "# 상태 그래프 초기화\n",
    "graph_builder = StateGraph(State)\n",
    "\n",
    "# 챗봇 노드 추가\n",
    "graph_builder.add_node(\"chatbot\", chatbot)\n",
    "\n",
    "# 도구 노드 추가\n",
    "graph_builder.add_node(\"tools\", ToolNode(tools=[Location]))"
   ]
  },
  {
   "cell_type": "code",
   "execution_count": 12,
   "metadata": {},
   "outputs": [],
   "source": [
    "\n",
    "\n",
    "# 도구 추가\n",
    "tool = TavilySearch(max_results=3)\n",
    "\n",
    "# 도구 목록 추가(HumanRequest 도구)\n",
    "tools = [tool, HumanRequest]\n",
    "\n",
    "# LLM 추가\n",
    "llm = ChatOpenAI(model=\"gpt-4o-mini\", temperature=0)\n",
    "\n",
    "# 도구 바인딩\n",
    "llm_with_tools = llm.bind_tools(tools)\n",
    "\n",
    "\n",
    "def chatbot(state: State):\n",
    "    # LLM 도구 호출을 통한 응답 생성\n",
    "    response = llm_with_tools.invoke(state[\"messages\"])\n",
    "\n",
    "    # 사람에게 질문할지 여부 초기화\n",
    "    ask_human = False\n",
    "\n",
    "    # 도구 호출이 있고 이름이 'HumanRequest' 인 경우\n",
    "    if response.tool_calls and response.tool_calls[0][\"name\"] == HumanRequest.__name__:\n",
    "        ask_human = True\n",
    "\n",
    "    # 메시지와 ask_human 상태 반환\n",
    "    return {\"messages\": [response], \"ask_human\": ask_human}"
   ]
  },
  {
   "cell_type": "code",
   "execution_count": 18,
   "metadata": {},
   "outputs": [
    {
     "ename": "TypeError",
     "evalue": "Expected a Runnable, callable or dict.Instead got an unsupported type: <class 'str'>",
     "output_type": "error",
     "traceback": [
      "\u001b[1;31m---------------------------------------------------------------------------\u001b[0m",
      "\u001b[1;31mTypeError\u001b[0m                                 Traceback (most recent call last)",
      "Cell \u001b[1;32mIn[18], line 19\u001b[0m\n\u001b[0;32m     16\u001b[0m graph_builder\u001b[38;5;241m.\u001b[39madd_edge(START, \u001b[38;5;124m\"\u001b[39m\u001b[38;5;124mchatbot\u001b[39m\u001b[38;5;124m\"\u001b[39m)\n\u001b[0;32m     18\u001b[0m \u001b[38;5;66;03m# 조건부 엣지 추가\u001b[39;00m\n\u001b[1;32m---> 19\u001b[0m \u001b[43mgraph_builder\u001b[49m\u001b[38;5;241;43m.\u001b[39;49m\u001b[43madd_conditional_edges\u001b[49m\u001b[43m(\u001b[49m\n\u001b[0;32m     20\u001b[0m \u001b[43m    \u001b[49m\u001b[38;5;124;43m\"\u001b[39;49m\u001b[38;5;124;43mchatbot\u001b[39;49m\u001b[38;5;124;43m\"\u001b[39;49m\u001b[43m,\u001b[49m\n\u001b[0;32m     21\u001b[0m \u001b[43m    \u001b[49m\u001b[38;5;66;43;03m# select_next_node,\u001b[39;49;00m\n\u001b[0;32m     22\u001b[0m \u001b[43m    \u001b[49m\u001b[43m{\u001b[49m\u001b[38;5;124;43m\"\u001b[39;49m\u001b[38;5;124;43mtools\u001b[39;49m\u001b[38;5;124;43m\"\u001b[39;49m\u001b[43m:\u001b[49m\u001b[43m \u001b[49m\u001b[38;5;124;43m\"\u001b[39;49m\u001b[38;5;124;43mtools\u001b[39;49m\u001b[38;5;124;43m\"\u001b[39;49m\u001b[43m,\u001b[49m\u001b[43m \u001b[49m\u001b[43mEND\u001b[49m\u001b[43m:\u001b[49m\u001b[43m \u001b[49m\u001b[43mEND\u001b[49m\u001b[43m}\u001b[49m\u001b[43m,\u001b[49m\n\u001b[0;32m     23\u001b[0m \u001b[43m)\u001b[49m\n\u001b[0;32m     25\u001b[0m \u001b[38;5;66;03m# 메모리 저장소 초기화\u001b[39;00m\n\u001b[0;32m     26\u001b[0m memory \u001b[38;5;241m=\u001b[39m MemorySaver()\n",
      "File \u001b[1;32md:\\pythonSrc\\tourGuide\\backend\\venv\\Lib\\site-packages\\langgraph\\graph\\graph.py:291\u001b[0m, in \u001b[0;36mGraph.add_conditional_edges\u001b[1;34m(self, source, path, path_map, then)\u001b[0m\n\u001b[0;32m    289\u001b[0m     path_map_ \u001b[38;5;241m=\u001b[39m \u001b[38;5;28;01mNone\u001b[39;00m\n\u001b[0;32m    290\u001b[0m \u001b[38;5;66;03m# find a name for the condition\u001b[39;00m\n\u001b[1;32m--> 291\u001b[0m path \u001b[38;5;241m=\u001b[39m \u001b[43mcoerce_to_runnable\u001b[49m\u001b[43m(\u001b[49m\u001b[43mpath\u001b[49m\u001b[43m,\u001b[49m\u001b[43m \u001b[49m\u001b[43mname\u001b[49m\u001b[38;5;241;43m=\u001b[39;49m\u001b[38;5;28;43;01mNone\u001b[39;49;00m\u001b[43m,\u001b[49m\u001b[43m \u001b[49m\u001b[43mtrace\u001b[49m\u001b[38;5;241;43m=\u001b[39;49m\u001b[38;5;28;43;01mTrue\u001b[39;49;00m\u001b[43m)\u001b[49m\n\u001b[0;32m    292\u001b[0m name \u001b[38;5;241m=\u001b[39m path\u001b[38;5;241m.\u001b[39mname \u001b[38;5;129;01mor\u001b[39;00m \u001b[38;5;124m\"\u001b[39m\u001b[38;5;124mcondition\u001b[39m\u001b[38;5;124m\"\u001b[39m\n\u001b[0;32m    293\u001b[0m \u001b[38;5;66;03m# validate the condition\u001b[39;00m\n",
      "File \u001b[1;32md:\\pythonSrc\\tourGuide\\backend\\venv\\Lib\\site-packages\\langgraph\\utils\\runnable.py:305\u001b[0m, in \u001b[0;36mcoerce_to_runnable\u001b[1;34m(thing, name, trace)\u001b[0m\n\u001b[0;32m    298\u001b[0m         \u001b[38;5;28;01mreturn\u001b[39;00m RunnableCallable(\n\u001b[0;32m    299\u001b[0m             thing,\n\u001b[0;32m    300\u001b[0m             wraps(thing)(partial(run_in_executor, \u001b[38;5;28;01mNone\u001b[39;00m, thing)),  \u001b[38;5;66;03m# type: ignore[arg-type]\u001b[39;00m\n\u001b[0;32m    301\u001b[0m             name\u001b[38;5;241m=\u001b[39mname,\n\u001b[0;32m    302\u001b[0m             trace\u001b[38;5;241m=\u001b[39mtrace,\n\u001b[0;32m    303\u001b[0m         )\n\u001b[0;32m    304\u001b[0m \u001b[38;5;28;01melif\u001b[39;00m \u001b[38;5;28misinstance\u001b[39m(thing, \u001b[38;5;28mdict\u001b[39m):\n\u001b[1;32m--> 305\u001b[0m     \u001b[38;5;28;01mreturn\u001b[39;00m \u001b[43mRunnableParallel\u001b[49m\u001b[43m(\u001b[49m\u001b[43mthing\u001b[49m\u001b[43m)\u001b[49m\n\u001b[0;32m    306\u001b[0m \u001b[38;5;28;01melse\u001b[39;00m:\n\u001b[0;32m    307\u001b[0m     \u001b[38;5;28;01mraise\u001b[39;00m \u001b[38;5;167;01mTypeError\u001b[39;00m(\n\u001b[0;32m    308\u001b[0m         \u001b[38;5;124mf\u001b[39m\u001b[38;5;124m\"\u001b[39m\u001b[38;5;124mExpected a Runnable, callable or dict.\u001b[39m\u001b[38;5;124m\"\u001b[39m\n\u001b[0;32m    309\u001b[0m         \u001b[38;5;124mf\u001b[39m\u001b[38;5;124m\"\u001b[39m\u001b[38;5;124mInstead got an unsupported type: \u001b[39m\u001b[38;5;132;01m{\u001b[39;00m\u001b[38;5;28mtype\u001b[39m(thing)\u001b[38;5;132;01m}\u001b[39;00m\u001b[38;5;124m\"\u001b[39m\n\u001b[0;32m    310\u001b[0m     )\n",
      "File \u001b[1;32md:\\pythonSrc\\tourGuide\\backend\\venv\\Lib\\site-packages\\langchain_core\\runnables\\base.py:3537\u001b[0m, in \u001b[0;36mRunnableParallel.__init__\u001b[1;34m(self, steps__, **kwargs)\u001b[0m\n\u001b[0;32m   3534\u001b[0m merged \u001b[38;5;241m=\u001b[39m {\u001b[38;5;241m*\u001b[39m\u001b[38;5;241m*\u001b[39msteps__} \u001b[38;5;28;01mif\u001b[39;00m steps__ \u001b[38;5;129;01mis\u001b[39;00m \u001b[38;5;129;01mnot\u001b[39;00m \u001b[38;5;28;01mNone\u001b[39;00m \u001b[38;5;28;01melse\u001b[39;00m {}\n\u001b[0;32m   3535\u001b[0m merged\u001b[38;5;241m.\u001b[39mupdate(kwargs)\n\u001b[0;32m   3536\u001b[0m \u001b[38;5;28msuper\u001b[39m()\u001b[38;5;241m.\u001b[39m\u001b[38;5;21m__init__\u001b[39m(  \u001b[38;5;66;03m# type: ignore[call-arg]\u001b[39;00m\n\u001b[1;32m-> 3537\u001b[0m     steps__\u001b[38;5;241m=\u001b[39m{key: \u001b[43mcoerce_to_runnable\u001b[49m\u001b[43m(\u001b[49m\u001b[43mr\u001b[49m\u001b[43m)\u001b[49m \u001b[38;5;28;01mfor\u001b[39;00m key, r \u001b[38;5;129;01min\u001b[39;00m merged\u001b[38;5;241m.\u001b[39mitems()}\n\u001b[0;32m   3538\u001b[0m )\n",
      "File \u001b[1;32md:\\pythonSrc\\tourGuide\\backend\\venv\\Lib\\site-packages\\langchain_core\\runnables\\base.py:5841\u001b[0m, in \u001b[0;36mcoerce_to_runnable\u001b[1;34m(thing)\u001b[0m\n\u001b[0;32m   5836\u001b[0m \u001b[38;5;28;01melse\u001b[39;00m:\n\u001b[0;32m   5837\u001b[0m     msg \u001b[38;5;241m=\u001b[39m (\n\u001b[0;32m   5838\u001b[0m         \u001b[38;5;124mf\u001b[39m\u001b[38;5;124m\"\u001b[39m\u001b[38;5;124mExpected a Runnable, callable or dict.\u001b[39m\u001b[38;5;124m\"\u001b[39m\n\u001b[0;32m   5839\u001b[0m         \u001b[38;5;124mf\u001b[39m\u001b[38;5;124m\"\u001b[39m\u001b[38;5;124mInstead got an unsupported type: \u001b[39m\u001b[38;5;132;01m{\u001b[39;00m\u001b[38;5;28mtype\u001b[39m(thing)\u001b[38;5;132;01m}\u001b[39;00m\u001b[38;5;124m\"\u001b[39m\n\u001b[0;32m   5840\u001b[0m     )\n\u001b[1;32m-> 5841\u001b[0m     \u001b[38;5;28;01mraise\u001b[39;00m \u001b[38;5;167;01mTypeError\u001b[39;00m(msg)\n",
      "\u001b[1;31mTypeError\u001b[0m: Expected a Runnable, callable or dict.Instead got an unsupported type: <class 'str'>"
     ]
    }
   ],
   "source": [
    "# 상태 그래프 초기화\n",
    "graph_builder = StateGraph(State)\n",
    "\n",
    "# 챗봇 노드 추가\n",
    "graph_builder.add_node(\"chatbot\", chatbot)\n",
    "\n",
    "# 도구 노드 추가\n",
    "graph_builder.add_node(\"tools\", ToolNode(tools=[tool]))\n",
    "\n",
    "# 엣지 추가: 'tools'에서 'chatbot'으로\n",
    "graph_builder.add_edge(\"tools\", \"chatbot\")\n",
    "\n",
    "graph_builder.add_edge(\"tools\", \"chatbot\")\n",
    "\n",
    "# 엣지 추가: 'human'에서 'chatbot'으로\n",
    "graph_builder.add_edge(START, \"chatbot\")\n",
    "\n",
    "# 조건부 엣지 추가\n",
    "graph_builder.add_conditional_edges(\n",
    "    \"chatbot\",\n",
    "    # select_next_node,\n",
    "    {\"tools\": \"tools\", END: END},\n",
    ")\n",
    "\n",
    "# 메모리 저장소 초기화\n",
    "memory = MemorySaver()\n",
    "\n",
    "# 그래프 컴파일: 메모리 체크포인터 사용\n",
    "graph = graph_builder.compile(\n",
    "    checkpointer=memory,\n",
    "    # # 'human' 이전에 인터럽트 설정\n",
    "    # interrupt_before=[\"tools\"],\n",
    ")\n",
    "\n",
    "from langchain_teddynote.graphs import visualize_graph\n",
    "\n",
    "visualize_graph(graph)"
   ]
  },
  {
   "cell_type": "code",
   "execution_count": 9,
   "metadata": {},
   "outputs": [
    {
     "data": {
      "text/plain": [
       "<langgraph.graph.state.StateGraph at 0x2030922eb70>"
      ]
     },
     "execution_count": 9,
     "metadata": {},
     "output_type": "execute_result"
    }
   ],
   "source": [
    "from langchain_core.messages import AIMessage, ToolMessage\n",
    "\n",
    "\n",
    "# 응답 메시지 생성(ToolMessage 생성을 위한 함수)\n",
    "def create_response(response: str, ai_message: AIMessage):\n",
    "    return ToolMessage(\n",
    "        content=response,\n",
    "        tool_call_id=ai_message.tool_calls[0][\"id\"],\n",
    "    )\n",
    "\n",
    "\n",
    "# 인간 노드 처리\n",
    "def human_node(state: State):\n",
    "    new_messages = []\n",
    "    if not isinstance(state[\"messages\"][-1], ToolMessage):\n",
    "        # 사람으로부터 응답이 없는 경우\n",
    "        new_messages.append(\n",
    "            create_response(\"No response from human.\", state[\"messages\"][-1])\n",
    "        )\n",
    "    return {\n",
    "        # 새 메시지 추가\n",
    "        \"messages\": new_messages,\n",
    "        # 플래그 해제\n",
    "        \"ask_human\": False,\n",
    "    }\n",
    "\n",
    "\n",
    "# 그래프에 인간 노드 추가\n",
    "graph_builder.add_node(\"human\", human_node)"
   ]
  },
  {
   "cell_type": "code",
   "execution_count": 10,
   "metadata": {},
   "outputs": [
    {
     "data": {
      "text/plain": [
       "<langgraph.graph.state.StateGraph at 0x2030922eb70>"
      ]
     },
     "execution_count": 10,
     "metadata": {},
     "output_type": "execute_result"
    }
   ],
   "source": [
    "from langgraph.graph import END\n",
    "\n",
    "\n",
    "# 다음 노드 선택\n",
    "def select_next_node(state: State):\n",
    "    # 인간에게 질문 여부 확인\n",
    "    if state[\"ask_human\"]:\n",
    "        return \"human\"\n",
    "    # 이전과 동일한 경로 설정\n",
    "    return tools_condition(state)\n",
    "\n",
    "\n",
    "# 조건부 엣지 추가\n",
    "graph_builder.add_conditional_edges(\n",
    "    \"chatbot\",\n",
    "    select_next_node,\n",
    "    {\"human\": \"human\", \"tools\": \"tools\", END: END},\n",
    ")"
   ]
  },
  {
   "cell_type": "code",
   "execution_count": 11,
   "metadata": {},
   "outputs": [],
   "source": [
    "# 엣지 추가: 'tools'에서 'chatbot'으로\n",
    "graph_builder.add_edge(\"tools\", \"chatbot\")\n",
    "\n",
    "# 엣지 추가: 'human'에서 'chatbot'으로\n",
    "graph_builder.add_edge(\"human\", \"chatbot\")\n",
    "\n",
    "# 엣지 추가: START에서 'chatbot'으로\n",
    "graph_builder.add_edge(START, \"chatbot\")\n",
    "\n",
    "# 메모리 저장소 초기화\n",
    "memory = MemorySaver()\n",
    "\n",
    "# 그래프 컴파일: 메모리 체크포인터 사용\n",
    "graph = graph_builder.compile(\n",
    "    checkpointer=memory,\n",
    "    # 'human' 이전에 인터럽트 설정\n",
    "    interrupt_before=[\"human\"],\n",
    ")"
   ]
  },
  {
   "cell_type": "code",
   "execution_count": 12,
   "metadata": {},
   "outputs": [
    {
     "data": {
      "image/png": "[encoded data removed]",
      "text/plain": [
       "<IPython.core.display.Image object>"
      ]
     },
     "metadata": {},
     "output_type": "display_data"
    }
   ],
   "source": [
    "from langchain_teddynote.graphs import visualize_graph\n",
    "\n",
    "visualize_graph(graph)"
   ]
  },
  {
   "cell_type": "code",
   "execution_count": 13,
   "metadata": {},
   "outputs": [
    {
     "name": "stdout",
     "output_type": "stream",
     "text": [
      "================================\u001b[1m Human Message \u001b[0m=================================\n",
      "\n",
      "이 AI 에이전트를 구축하기 위해 전문가의 도움이 필요합니다. 도움을 요청할 수 있나요?\n",
      "==================================\u001b[1m Ai Message \u001b[0m==================================\n",
      "Tool Calls:\n",
      "  HumanRequest (call_tX8urjjT1I55ASlz8R6P83Jq)\n",
      " Call ID: call_tX8urjjT1I55ASlz8R6P83Jq\n",
      "  Args:\n",
      "    request: AI 에이전트를 구축하는 데 필요한 전문가의 도움을 요청합니다.\n"
     ]
    }
   ],
   "source": [
    "# user_input = \"이 AI 에이전트를 구축하기 위해 전문가의 도움이 필요합니다. 검색해서 답변하세요\" (Human 이 아닌 웹검색을 수행하는 경우)\n",
    "user_input = \"이 AI 에이전트를 구축하기 위해 전문가의 도움이 필요합니다. 도움을 요청할 수 있나요?\"\n",
    "\n",
    "# config 설정\n",
    "config = {\"configurable\": {\"thread_id\": \"1\"}}\n",
    "\n",
    "# 스트림 또는 호출의 두 번째 위치 인수로서의 구성\n",
    "events = graph.stream(\n",
    "    {\"messages\": [(\"user\", user_input)]}, config, stream_mode=\"values\"\n",
    ")\n",
    "for event in events:\n",
    "    if \"messages\" in event:\n",
    "        # 마지막 메시지의 예쁜 출력\n",
    "        event[\"messages\"][-1].pretty_print()"
   ]
  },
  {
   "cell_type": "code",
   "execution_count": 14,
   "metadata": {},
   "outputs": [
    {
     "data": {
      "text/plain": [
       "('human',)"
      ]
     },
     "execution_count": 14,
     "metadata": {},
     "output_type": "execute_result"
    }
   ],
   "source": [
    "# 그래프 상태 스냅샷 생성\n",
    "snapshot = graph.get_state(config)\n",
    "\n",
    "# 다음 스냅샷 상태 접근\n",
    "snapshot.next"
   ]
  },
  {
   "cell_type": "code",
   "execution_count": 15,
   "metadata": {},
   "outputs": [
    {
     "data": {
      "text/plain": [
       "{'configurable': {'thread_id': '1',\n",
       "  'checkpoint_ns': '',\n",
       "  'checkpoint_id': '1efdabba-6201-6f13-8002-b37d8d041429'}}"
      ]
     },
     "execution_count": 15,
     "metadata": {},
     "output_type": "execute_result"
    }
   ],
   "source": [
    "# AI 메시지 추출\n",
    "ai_message = snapshot.values[\"messages\"][-1]\n",
    "\n",
    "# 인간 응답 생성\n",
    "human_response = (\n",
    "    \"전문가들이 도와드리겠습니다! 에이전트 구축을 위해 LangGraph를 확인해 보시기를 적극 추천드립니다. \"\n",
    "    \"단순한 자율 에이전트보다 훨씬 더 안정적이고 확장성이 뛰어납니다. \"\n",
    "    \"https://wikidocs.net/233785 에서 더 많은 정보를 확인할 수 있습니다.\"\n",
    ")\n",
    "\n",
    "# 도구 메시지 생성\n",
    "tool_message = create_response(human_response, ai_message)\n",
    "\n",
    "# 그래프 상태 업데이트\n",
    "graph.update_state(config, {\"messages\": [tool_message]})"
   ]
  },
  {
   "cell_type": "code",
   "execution_count": 16,
   "metadata": {},
   "outputs": [
    {
     "data": {
      "text/plain": [
       "[HumanMessage(content='이 AI 에이전트를 구축하기 위해 전문가의 도움이 필요합니다. 도움을 요청할 수 있나요?', additional_kwargs={}, response_metadata={}, id='d780bd8f-45bb-41fb-993d-30760dbedea1'),\n",
       " AIMessage(content='', additional_kwargs={'tool_calls': [{'id': 'call_tX8urjjT1I55ASlz8R6P83Jq', 'function': {'arguments': '{\"request\":\"AI 에이전트를 구축하는 데 필요한 전문가의 도움을 요청합니다.\"}', 'name': 'HumanRequest'}, 'type': 'function'}], 'refusal': None}, response_metadata={'token_usage': {'completion_tokens': 31, 'prompt_tokens': 171, 'total_tokens': 202, 'completion_tokens_details': {'accepted_prediction_tokens': 0, 'audio_tokens': 0, 'reasoning_tokens': 0, 'rejected_prediction_tokens': 0}, 'prompt_tokens_details': {'audio_tokens': 0, 'cached_tokens': 0}}, 'model_name': 'gpt-4o-mini-2024-07-18', 'system_fingerprint': 'fp_bd83329f63', 'finish_reason': 'tool_calls', 'logprobs': None}, id='run-da0a0350-3ff9-43c9-9650-72440c302151-0', tool_calls=[{'name': 'HumanRequest', 'args': {'request': 'AI 에이전트를 구축하는 데 필요한 전문가의 도움을 요청합니다.'}, 'id': 'call_tX8urjjT1I55ASlz8R6P83Jq', 'type': 'tool_call'}], usage_metadata={'input_tokens': 171, 'output_tokens': 31, 'total_tokens': 202, 'input_token_details': {'audio': 0, 'cache_read': 0}, 'output_token_details': {'audio': 0, 'reasoning': 0}}),\n",
       " ToolMessage(content='전문가들이 도와드리겠습니다! 에이전트 구축을 위해 LangGraph를 확인해 보시기를 적극 추천드립니다. 단순한 자율 에이전트보다 훨씬 더 안정적이고 확장성이 뛰어납니다. https://wikidocs.net/233785 에서 더 많은 정보를 확인할 수 있습니다.', id='0e8aaac6-4298-4025-aea4-3968035e9ed0', tool_call_id='call_tX8urjjT1I55ASlz8R6P83Jq')]"
      ]
     },
     "execution_count": 16,
     "metadata": {},
     "output_type": "execute_result"
    }
   ],
   "source": [
    "# 그래프 상태에서 메시지 값 가져오기\n",
    "graph.get_state(config).values[\"messages\"]"
   ]
  },
  {
   "cell_type": "code",
   "execution_count": 17,
   "metadata": {},
   "outputs": [
    {
     "name": "stdout",
     "output_type": "stream",
     "text": [
      "=================================\u001b[1m Tool Message \u001b[0m=================================\n",
      "\n",
      "전문가들이 도와드리겠습니다! 에이전트 구축을 위해 LangGraph를 확인해 보시기를 적극 추천드립니다. 단순한 자율 에이전트보다 훨씬 더 안정적이고 확장성이 뛰어납니다. https://wikidocs.net/233785 에서 더 많은 정보를 확인할 수 있습니다.\n",
      "=================================\u001b[1m Tool Message \u001b[0m=================================\n",
      "\n",
      "전문가들이 도와드리겠습니다! 에이전트 구축을 위해 LangGraph를 확인해 보시기를 적극 추천드립니다. 단순한 자율 에이전트보다 훨씬 더 안정적이고 확장성이 뛰어납니다. https://wikidocs.net/233785 에서 더 많은 정보를 확인할 수 있습니다.\n",
      "==================================\u001b[1m Ai Message \u001b[0m==================================\n",
      "\n",
      "AI 에이전트를 구축하는 데 필요한 전문가의 도움을 요청했습니다. LangGraph를 확인해 보시기를 추천드립니다. 이 플랫폼은 단순한 자율 에이전트보다 훨씬 더 안정적이고 확장성이 뛰어납니다. 더 많은 정보는 [여기](https://wikidocs.net/233785)에서 확인하실 수 있습니다.\n"
     ]
    }
   ],
   "source": [
    "# 그래프에서 이벤트 스트림 생성\n",
    "events = graph.stream(None, config, stream_mode=\"values\")\n",
    "\n",
    "# 각 이벤트에 대한 처리\n",
    "for event in events:\n",
    "    # 메시지가 있는 경우 마지막 메시지 출력\n",
    "    if \"messages\" in event:\n",
    "        event[\"messages\"][-1].pretty_print()"
   ]
  },
  {
   "cell_type": "code",
   "execution_count": 18,
   "metadata": {},
   "outputs": [
    {
     "name": "stdout",
     "output_type": "stream",
     "text": [
      "================================\u001b[1m Human Message \u001b[0m=================================\n",
      "\n",
      "이 AI 에이전트를 구축하기 위해 전문가의 도움이 필요합니다. 도움을 요청할 수 있나요?\n",
      "==================================\u001b[1m Ai Message \u001b[0m==================================\n",
      "Tool Calls:\n",
      "  HumanRequest (call_tX8urjjT1I55ASlz8R6P83Jq)\n",
      " Call ID: call_tX8urjjT1I55ASlz8R6P83Jq\n",
      "  Args:\n",
      "    request: AI 에이전트를 구축하는 데 필요한 전문가의 도움을 요청합니다.\n",
      "=================================\u001b[1m Tool Message \u001b[0m=================================\n",
      "\n",
      "전문가들이 도와드리겠습니다! 에이전트 구축을 위해 LangGraph를 확인해 보시기를 적극 추천드립니다. 단순한 자율 에이전트보다 훨씬 더 안정적이고 확장성이 뛰어납니다. https://wikidocs.net/233785 에서 더 많은 정보를 확인할 수 있습니다.\n",
      "==================================\u001b[1m Ai Message \u001b[0m==================================\n",
      "\n",
      "AI 에이전트를 구축하는 데 필요한 전문가의 도움을 요청했습니다. LangGraph를 확인해 보시기를 추천드립니다. 이 플랫폼은 단순한 자율 에이전트보다 훨씬 더 안정적이고 확장성이 뛰어납니다. 더 많은 정보는 [여기](https://wikidocs.net/233785)에서 확인하실 수 있습니다.\n"
     ]
    }
   ],
   "source": [
    "# 최종 상태 확인\n",
    "state = graph.get_state(config)\n",
    "\n",
    "# 단계별 메시지 출력\n",
    "for message in state.values[\"messages\"]:\n",
    "    message.pretty_print()"
   ]
  }
 ],
 "metadata": {
  "kernelspec": {
   "display_name": "venv",
   "language": "python",
   "name": "python3"
  },
  "language_info": {
   "codemirror_mode": {
    "name": "ipython",
    "version": 3
   },
   "file_extension": ".py",
   "mimetype": "text/x-python",
   "name": "python",
   "nbconvert_exporter": "python",
   "pygments_lexer": "ipython3",
   "version": "3.12.6"
  }
 },
 "nbformat": 4,
 "nbformat_minor": 2
}
