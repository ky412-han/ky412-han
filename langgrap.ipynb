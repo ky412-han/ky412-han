{
 "cells": [
  {
   "cell_type": "code",
   "execution_count": 1,
   "metadata": {},
   "outputs": [
    {
     "data": {
      "image/png": "[encoded data removed]",
      "text/plain": [
       "<IPython.core.display.Image object>"
      ]
     },
     "metadata": {},
     "output_type": "display_data"
    }
   ],
   "source": [
    "from dotenv import load_dotenv\n",
    "from langgraph.graph import StateGraph, MessagesState, START, END\n",
    "from langchain_openai import ChatOpenAI\n",
    "from typing import Annotated, TypedDict\n",
    "from langgraph.graph.message import add_messages\n",
    "\n",
    "load_dotenv()\n",
    "\n",
    "class State(TypedDict):\n",
    "    # 메시지 정의(list type 이며 add_messages 함수를 사용하여 메시지를 추가)\n",
    "    messages: Annotated[list, add_messages]\n",
    "\n",
    "\n",
    "llm = ChatOpenAI(model=\"gpt-4o-mini\", temperature=0)\n",
    "\n",
    "\n",
    "def chatbot(state: State):\n",
    "    # 메시지 호출 및 반환\n",
    "    return {\"messages\": [llm.invoke(state[\"messages\"])]}\n",
    "\n",
    "graph_builder = StateGraph(State)\n",
    "\n",
    "graph_builder.add_node(\"chatbot\", chatbot)\n",
    "    \n",
    "\n",
    "graph_builder.add_edge(START, \"chatbot\")\n",
    "\n",
    "graph_builder.add_edge(\"chatbot\", END)\n",
    "\n",
    "graph = graph_builder.compile()\n",
    "\n",
    "from langchain_teddynote.graphs import visualize_graph\n",
    "\n",
    "visualize_graph(graph)"
   ]
  },
  {
   "cell_type": "code",
   "execution_count": 2,
   "metadata": {},
   "outputs": [
    {
     "name": "stdout",
     "output_type": "stream",
     "text": [
      "Assistant: 서울에는 다양한 맛집이 많아서 선택하기가 어렵지만, 다음은 서울에서 유명한 맛집 TOP 10을 추천해 드립니다. 각 식당은 고유의 매력을 가지고 있으니 참고해 보세요!\n",
      "\n",
      "1. **광장시장** - 전통 시장으로, 빈대떡, 마약김밥, 떡볶이 등 다양한 길거리 음식을 즐길 수 있습니다.\n",
      "\n",
      "2. **이태원 부대찌개** - 부대찌개로 유명한 이곳은 푸짐한 양과 깊은 맛으로 많은 사랑을 받고 있습니다.\n",
      "\n",
      "3. **명동교자** - 칼국수와 만두가 유명한 곳으로, 항상 많은 사람들이 줄 서서 기다리는 인기 맛집입니다.\n",
      "\n",
      "4. **삼청동 수제비** - 수제비와 전통 한식을 즐길 수 있는 아늑한 분위기의 식당입니다.\n",
      "\n",
      "5. **한남동 고기리 막창** - 막창과 다양한 고기 요리를 전문으로 하는 곳으로, 고기의 질이 뛰어납니다.\n",
      "\n",
      "6. **신사동 가로수길의 카페 드 파리** - 디저트와 브런치로 유명한 카페로, 분위기가 좋고 인스타그램에 올리기 좋은 메뉴가 많습니다.\n",
      "\n",
      "7. **종로의 통인시장** - 다양한 전통 음식을 한 곳에서 즐길 수 있는 시장으로, 특히 김밥과 떡볶이가 인기입니다.\n",
      "\n",
      "8. **압구정의 미슐랭 가이드 선정 레스토랑** - 고급 한식을 제공하는 곳으로, 특별한 날에 가기 좋은 레스토랑입니다.\n",
      "\n",
      "9. **홍대의 연남동 베이커리** - 다양한 빵과 디저트를 제공하는 베이커리로, 아침이나 간식으로 좋습니다.\n",
      "\n",
      "10. **강남의 스시조** - 신선한 재료로 만든 스시를 즐길 수 있는 고급 스시집으로, 특별한 날에 추천합니다.\n",
      "\n",
      "각 식당의 운영 시간이나 메뉴는 변동이 있을 수 있으니 방문 전에 확인해 보시는 것이 좋습니다. 맛있는 식사 되세요!\n"
     ]
    }
   ],
   "source": [
    "question = \"서울의 유명한 맛집 TOP 10 추천해줘\"\n",
    "\n",
    "# 그래프 이벤트 스트리밍\n",
    "for event in graph.stream({\"messages\": [(\"user\", question)]}):\n",
    "    # 이벤트 값 출력\n",
    "    for value in event.values():\n",
    "        print(\"Assistant:\", value[\"messages\"][-1].content)"
   ]
  },
  {
   "cell_type": "code",
   "execution_count": 4,
   "metadata": {},
   "outputs": [],
   "source": [
    "from typing import Annotated, List, Dict\n",
    "from typing_extensions import TypedDict\n",
    "\n",
    "from langchain_core.tools import tool\n",
    "from langchain_openai import ChatOpenAI\n",
    "from langgraph.checkpoint.memory import MemorySaver\n",
    "from langgraph.graph import StateGraph, START, END\n",
    "from langgraph.graph.message import add_messages\n",
    "from langgraph.prebuilt import ToolNode, tools_condition\n",
    "from langchain_teddynote.graphs import visualize_graph\n",
    "from langchain_teddynote.tools import GoogleNews"
   ]
  },
  {
   "cell_type": "code",
   "execution_count": 5,
   "metadata": {},
   "outputs": [],
   "source": [
    "########## 1. 상태 정의 ##########\n",
    "# 상태 정의\n",
    "class State(TypedDict):\n",
    "    # 메시지 목록 주석 추가\n",
    "    messages: Annotated[list, add_messages]\n",
    "\n",
    "\n",
    "########## 2. 도구 정의 및 바인딩 ##########\n",
    "# 도구 초기화\n",
    "# 키워드로 뉴스 검색하는 도구 생성\n",
    "news_tool = GoogleNews()\n",
    "\n",
    "\n",
    "@tool\n",
    "def search_keyword(query: str) -> List[Dict[str, str]]:\n",
    "    \"\"\"Look up news by keyword\"\"\"\n",
    "    news_tool = GoogleNews()\n",
    "    return news_tool.search_by_keyword(query, k=5)\n",
    "\n",
    "\n",
    "tools = [search_keyword]\n",
    "\n",
    "# LLM 초기화\n",
    "llm = ChatOpenAI(model=\"gpt-4o-mini\")\n",
    "\n",
    "# 도구와 LLM 결합\n",
    "llm_with_tools = llm.bind_tools(tools)"
   ]
  },
  {
   "cell_type": "code",
   "execution_count": 6,
   "metadata": {},
   "outputs": [
    {
     "data": {
      "text/plain": [
       "<langgraph.graph.state.StateGraph at 0x216948db470>"
      ]
     },
     "execution_count": 6,
     "metadata": {},
     "output_type": "execute_result"
    }
   ],
   "source": [
    "########## 3. 노드 추가 ##########\n",
    "# 챗봇 함수 정의\n",
    "def chatbot(state: State):\n",
    "    # 메시지 호출 및 반환\n",
    "    return {\"messages\": [llm_with_tools.invoke(state[\"messages\"])]}\n",
    "\n",
    "\n",
    "# 상태 그래프 생성\n",
    "graph_builder = StateGraph(State)\n",
    "\n",
    "# 챗봇 노드 추가\n",
    "graph_builder.add_node(\"chatbot\", chatbot)\n",
    "\n",
    "\n",
    "# 도구 노드 생성 및 추가\n",
    "tool_node = ToolNode(tools=tools)\n",
    "\n",
    "# 도구 노드 추가\n",
    "graph_builder.add_node(\"tools\", tool_node)\n",
    "\n",
    "# 조건부 엣지\n",
    "graph_builder.add_conditional_edges(\n",
    "    \"chatbot\",\n",
    "    tools_condition,\n",
    ")\n"
   ]
  },
  {
   "cell_type": "code",
   "execution_count": 7,
   "metadata": {},
   "outputs": [],
   "source": [
    "########## 4. 엣지 추가 ##########\n",
    "\n",
    "# tools > chatbot\n",
    "graph_builder.add_edge(\"tools\", \"chatbot\")\n",
    "\n",
    "# START > chatbot\n",
    "graph_builder.add_edge(START, \"chatbot\")\n",
    "\n",
    "# chatbot > END\n",
    "graph_builder.add_edge(\"chatbot\", END)\n",
    "\n",
    "########## 5. MemorySaver 추가 ##########\n",
    "\n",
    "# 메모리 저장소 초기화\n",
    "memory = MemorySaver()"
   ]
  },
  {
   "cell_type": "code",
   "execution_count": 8,
   "metadata": {},
   "outputs": [
    {
     "data": {
      "image/png": "[encoded data removed]",
      "text/plain": [
       "<IPython.core.display.Image object>"
      ]
     },
     "metadata": {},
     "output_type": "display_data"
    }
   ],
   "source": [
    "########## 6. interrupt_before 추가 ##########\n",
    "\n",
    "# 그래프 빌더 컴파일\n",
    "graph = graph_builder.compile(checkpointer=memory)\n",
    "########## 7. 그래프 시각화 ##########\n",
    "# 그래프 시각화\n",
    "visualize_graph(graph)"
   ]
  },
  {
   "cell_type": "code",
   "execution_count": 9,
   "metadata": {},
   "outputs": [
    {
     "name": "stdout",
     "output_type": "stream",
     "text": [
      "\n",
      "[messages]\n",
      "\n",
      "================================\u001b[1m Human Message \u001b[0m=================================\n",
      "\n",
      "AI 관련 최신 뉴스를 알려주세요.\n",
      "\n",
      "[messages]\n",
      "\n",
      "================================\u001b[1m Human Message \u001b[0m=================================\n",
      "\n",
      "AI 관련 최신 뉴스를 알려주세요.\n",
      "==================================\u001b[1m Ai Message \u001b[0m==================================\n",
      "Tool Calls:\n",
      "  search_keyword (call_dbTQy7lnoRBxO0oQlOgtDBbH)\n",
      " Call ID: call_dbTQy7lnoRBxO0oQlOgtDBbH\n",
      "  Args:\n",
      "    query: AI\n"
     ]
    }
   ],
   "source": [
    "from langchain_teddynote.messages import pretty_print_messages\n",
    "from langchain_core.runnables import RunnableConfig\n",
    "\n",
    "# 질문\n",
    "question = \"AI 관련 최신 뉴스를 알려주세요.\"\n",
    "\n",
    "# 초기 입력 State 를 정의\n",
    "input = State(messages=[(\"user\", question)])\n",
    "\n",
    "# config 설정\n",
    "config = RunnableConfig(\n",
    "    recursion_limit=10,  # 최대 10개의 노드까지 방문. 그 이상은 RecursionError 발생\n",
    "    configurable={\"thread_id\": \"1\"},  # 스레드 ID 설정\n",
    "    tags=[\"my-rag\"],  # Tag\n",
    ")\n",
    "\n",
    "for event in graph.stream(\n",
    "    input=input,\n",
    "    config=config,\n",
    "    stream_mode=\"values\",\n",
    "    interrupt_before=[\"tools\"],  # tools 실행 전 interrupt(tools 노드 실행 전 중단)\n",
    "):\n",
    "    for key, value in event.items():\n",
    "        # key 는 노드 이름\n",
    "        print(f\"\\n[{key}]\\n\")\n",
    "\n",
    "        # value 는 노드의 출력값\n",
    "        # print(value)\n",
    "        pretty_print_messages(value)\n",
    "\n",
    "        # value 에는 state 가 dict 형태로 저장(values 의 key 값)\n",
    "        if \"messages\" in value:\n",
    "            print(f\"메시지 개수: {len(value['messages'])}\")"
   ]
  },
  {
   "cell_type": "code",
   "execution_count": 10,
   "metadata": {},
   "outputs": [
    {
     "data": {
      "text/plain": [
       "('tools',)"
      ]
     },
     "execution_count": 10,
     "metadata": {},
     "output_type": "execute_result"
    }
   ],
   "source": [
    "# 그래프 상태 스냅샷 생성\n",
    "snapshot = graph.get_state(config)\n",
    "\n",
    "# 다음 스냅샷 상태\n",
    "snapshot.next"
   ]
  },
  {
   "cell_type": "code",
   "execution_count": 11,
   "metadata": {},
   "outputs": [
    {
     "name": "stdout",
     "output_type": "stream",
     "text": [
      "    \u001b[96mindex [0]\u001b[0m\n",
      "        \u001b[94mname\u001b[0m: \"search_keyword\"\n",
      "        \u001b[94margs\u001b[0m: {\"query\": \"AI\"}\n",
      "        \u001b[94mid\u001b[0m: \"call_dbTQy7lnoRBxO0oQlOgtDBbH\"\n",
      "        \u001b[94mtype\u001b[0m: \"tool_call\"\n"
     ]
    }
   ],
   "source": [
    "from langchain_teddynote.messages import display_message_tree\n",
    "\n",
    "# 메시지 스냅샷에서 마지막 메시지 추출\n",
    "existing_message = snapshot.values[\"messages\"][-1]\n",
    "\n",
    "# 메시지 트리 표시\n",
    "display_message_tree(existing_message.tool_calls)"
   ]
  },
  {
   "cell_type": "code",
   "execution_count": 12,
   "metadata": {},
   "outputs": [
    {
     "name": "stdout",
     "output_type": "stream",
     "text": [
      "==================================\u001b[1m Ai Message \u001b[0m==================================\n",
      "Tool Calls:\n",
      "  search_keyword (call_dbTQy7lnoRBxO0oQlOgtDBbH)\n",
      " Call ID: call_dbTQy7lnoRBxO0oQlOgtDBbH\n",
      "  Args:\n",
      "    query: AI\n",
      "=================================\u001b[1m Tool Message \u001b[0m=================================\n",
      "Name: search_keyword\n",
      "\n",
      "[{\"url\": \"https://news.google.com/rss/articles/CBMiakFVX3lxTE9PTTNKM2pLRXlvN3dzckxpeFJ3NFpRZU1mTTFxLVBXeGFpX0lISWY2MjNYV2E2cXdlZkFlRUw5S25SRldtN2dzUnczcElRZ2xIa3BEbDQ4dGc2Q182OW5wTU9nOTVhSld2eHc?oc=5\", \"content\": \"오픈AI, 미국서 AI 에이전트 '오퍼레이터' 출시...\\\"곧 다른 국가에서도 공개\\\" - AI타임스\"}, {\"url\": \"https://news.google.com/rss/articles/CBMiXkFVX3lxTE5HaUJoVTJ0Q0JHSDhkQ0Z4VEJjdHhoWVZaRjdYTkVQMk8tblVlcTFOUFNNU19JX2xfbVA5TnYxeXZYRUlIWGVwZ1JpM202WlNSVk9vRE14eEJwYTZjd2fSAXZBVV95cUxNSzVORkZVY3E2Z1FQSkxNRW1tWVNydzZqa2o4NFJUWmxnV01aQ3ZQUGt3NzczeTZmOEtZMmhTaWV2VmExMGJ4Rm9HVlBSU1ZQN2xvc2NoVGQtVmFYNU92VS1BazRoNVpiTmpFd0ZfdXZBcmc4TUpB?oc=5\", \"content\": \"오픈AI, AI 에이전트 '오퍼레이터' 공개...예약·쇼핑 척척 - YTN\"}, {\"url\": \"https://news.google.com/rss/articles/CBMiW0FVX3lxTE1YWTRlTFpzX01xNTBIR1BzcE80SnRLYUtOZVZrd0hmRFJzU3B4N2VWeElySFJaZlJXREl1bEtwbGV2RU4zb2hzVHlpUkVyQk1RQ0o2Mi1jOFNROVnSAV5BVV95cUxPZHlkNmJOcnBaNjFWdFFPNWpLWmJGUGVjNkJzbC1jWFZQMWl4RHdXMDM5Y0FaQ3ZmS1ZqWlNveGVkWk1qMFhuTWpkaWp1OGVPUm5IM0F1OVpnbGI3aGNn?oc=5\", \"content\": \"오픈AI, AI 에이전트 '오퍼레이터' 공개…예약·쇼핑 척척 - 연합뉴스\"}, {\"url\": \"https://news.google.com/rss/articles/CBMic0FVX3lxTE5DeWtEZzQwc1NXczV2LVNpLXpWM2hHRmVIb3R4aTVkakF4LVlaOWhiSEhTb25sZVpPWXFtMkdpdmpWY2dPOHRsbGF3QlJybUxfcFFCMjFZcl9UOGNuR2FoMkZpQ3UtWGZBOTZNZkFBa1JRc2PSAWZBVV95cUxObXBrT1JSSlNMWGdoSXR3WndZQXpSZGRMZ09ha2M0S0d5Ty1RZmhLdTFCRXZLM0E0NFVHLWswLUpKVXcxeFY3b0xHV3BnRjBXWGFmeWNQY1BuRU5wUHBxNnVTUDM5Y2c?oc=5\", \"content\": \"빅테크 옆에 세운 트럼프 “AI 인프라에 753조원 투자” - 동아일보\"}, {\"url\": \"https://news.google.com/rss/articles/CBMigwFBVV95cUxOZkk4X1ZqbE03ZmhBcHliTWhTclc3dUtoSHFKVkZtQ0g5ZDlHYXotNzh1RjVZMzlHV2ZLa09mZlZBNjdDcERicWgwM1o1SHI4UlYyTW9CRjJJZkxXc1hwdmIzTVFkOXZrMTJRVG9LNWJNRnZrTzllNll5VmZYY212LWNCVQ?oc=5\", \"content\": \"‘AI 트리즘’으로 살펴보는 AI 신뢰성 - 주간경향\"}]\n",
      "==================================\u001b[1m Ai Message \u001b[0m==================================\n",
      "\n",
      "최신 AI 관련 뉴스는 다음과 같습니다:\n",
      "\n",
      "1. [오픈AI, 미국서 AI 에이전트 '오퍼레이터' 출시...\\\"곧 다른 국가에서도 공개\\\" - AI타임스](https://news.google.com/rss/articles/CBMiakFVX3lxTE9PTTNKM2pLRXlvN3dzckxpeFJ3NFpRZU1mTTFxLVBXeGFpX0lISWY2MjNYV2E2cXdlZkFlRUw5S25SRldtN2dzUnczcElRZ2xIa3BEbDQ4dGc2Q182OW5wTU9nOTVhSld2eHc?oc=5)\n",
      "   \n",
      "2. [오픈AI, AI 에이전트 '오퍼레이터' 공개...예약·쇼핑 척척 - YTN](https://news.google.com/rss/articles/CBMiXkFVX3lxTE5HaUJoVTJ0Q0JHSDhkQ0Z4VEJjdHhoWVZaRjdYTkVQMk8tblVlcTFOUFNNU19JX2xfbVA5TnYxeXZYRUlIWGVwZ1JpM202WlNSVk9vRE14eEJwYTZjd2fSAXZBVV95cUxNSzVORkZVY3E2Z1FQSkxNRW1tWVNydzZqa2o4NFJUWmxnV01aQ3ZQUGt3NzczeTZmOEtZMmhTaWV2VmExMGJ4Rm9HVlBSU1ZQN2xvc2NoVGQtVmFYNU92VS1BazRoNVpiTmpFd0ZfdXZBcmc4TUpB?oc=5)\n",
      "\n",
      "3. [오픈AI, AI 에이전트 '오퍼레이터' 공개…예약·쇼핑 척척 - 연합뉴스](https://news.google.com/rss/articles/CBMiW0FVX3lxTE1YWTRlTFpzX01xNTBIR1BzcE80SnRLYUtOZVZrd0hmRFJzU3B4N2VWeElySFJaZlJXREl1bEtwbGV2RU4zb2hzVHlpUkVyQk1RQ0o2Mi1jOFNROVnSAV5BVV95cUxPZHlkNmJOcnBaNjFWdFFPNWpLWmJGUGVjNkJzbC1jWFZQMWl4RHdXMDM5Y0FaQ3ZmS1ZqWlNveGVkWk1qMFhuTWpkaWp1OGVPUm5IM0F1OVpnbGI3aGNn?oc=5)\n",
      "\n",
      "4. [빅테크 옆에 세운 트럼프 “AI 인프라에 753조원 투자” - 동아일보](https://news.google.com/rss/articles/CBMic0FVX3lxTE5DeWtEZzQwc1NXczV2LVNpLXpWM2hHRmVIb3R4aTVkakF4LVlaOWhiSEhTb25sZVpPWXFtMkdpdmpWY2dPOHRsbGF3QlJybUxfcFFCMjFZcl9UOGNuR2FoMkZpQ3UtWGZBOTZNZkFBa1JRc2PSAWZBVV95cUxObXBrT1JSSlNMWGdoSXR3WndZQXpSZGRMZ09ha2M0S0d5Ty1RZmhLdTFCRXZLM0E0NFVHLWswLUpKVXcxeFY3b0xHV3BnRjBXWGFmeWNQY1BuRU5wUHBxNnVTUDM5Y2c?oc=5)\n",
      "\n",
      "5. [‘AI 트리즘’으로 살펴보는 AI 신뢰성 - 주간경향](https://news.google.com/rss/articles/CBMigwFBVV95cUxOZkk4X1ZqbE03ZmhBcHliTWhTclc3dUtoSHFKVkZtQ0g5ZDlHYXotNzh1RjVZMzlHV2ZLa09mZlZBNjdDcERicWgwM1o1SHI4UlYyTW9CRjJJZkxXc1hwdmIzTVFkOXZrMTJRVG9LNWJNRnZrTzllNll5VmZYY212LWNCVQ?oc=5)\n",
      "\n",
      "이 기사들을 통해 최근 AI 분야의 동향을 확인하실 수 있습니다.\n"
     ]
    }
   ],
   "source": [
    "# `None`는 현재 상태에 아무것도 추가하지 않음\n",
    "events = graph.stream(None, config, stream_mode=\"values\")\n",
    "\n",
    "# 이벤트 반복 처리\n",
    "for event in events:\n",
    "    # 메시지가 이벤트에 포함된 경우\n",
    "    if \"messages\" in event:\n",
    "        # 마지막 메시지의 예쁜 출력\n",
    "        event[\"messages\"][-1].pretty_print()"
   ]
  },
  {
   "cell_type": "code",
   "execution_count": 13,
   "metadata": {},
   "outputs": [
    {
     "name": "stdout",
     "output_type": "stream",
     "text": [
      "메시지 수:  4 다음 노드:  ()\n",
      "--------------------------------------------------------------------------------\n",
      "메시지 수:  3 다음 노드:  ('chatbot',)\n",
      "--------------------------------------------------------------------------------\n",
      "메시지 수:  2 다음 노드:  ('tools',)\n",
      "--------------------------------------------------------------------------------\n",
      "메시지 수:  1 다음 노드:  ('chatbot',)\n",
      "--------------------------------------------------------------------------------\n",
      "메시지 수:  0 다음 노드:  ('__start__',)\n",
      "--------------------------------------------------------------------------------\n"
     ]
    }
   ],
   "source": [
    "to_replay = None\n",
    "\n",
    "# 상태 기록 가져오기\n",
    "for state in graph.get_state_history(config):\n",
    "    # 메시지 수 및 다음 상태 출력\n",
    "    print(\"메시지 수: \", len(state.values[\"messages\"]), \"다음 노드: \", state.next)\n",
    "    print(\"-\" * 80)\n",
    "    # 특정 상태 선택 기준: 채팅 메시지 수\n",
    "    if len(state.values[\"messages\"]) == 3:\n",
    "        to_replay = state"
   ]
  },
  {
   "cell_type": "code",
   "execution_count": 14,
   "metadata": {},
   "outputs": [
    {
     "name": "stdout",
     "output_type": "stream",
     "text": [
      "('chatbot',)\n",
      "{'configurable': {'thread_id': '1', 'checkpoint_ns': '', 'checkpoint_id': '1efda22a-9929-608b-8002-befdf3adc193'}}\n"
     ]
    }
   ],
   "source": [
    "# 다음 항목의 다음 요소 출력\n",
    "print(to_replay.next)\n",
    "\n",
    "# 다음 항목의 설정 정보 출력\n",
    "print(to_replay.config)"
   ]
  },
  {
   "cell_type": "code",
   "execution_count": 15,
   "metadata": {},
   "outputs": [
    {
     "data": {
      "text/plain": [
       "{'configurable': {'thread_id': '1',\n",
       "  'checkpoint_ns': '',\n",
       "  'checkpoint_id': '1efda22a-9929-608b-8002-befdf3adc193'}}"
      ]
     },
     "execution_count": 15,
     "metadata": {},
     "output_type": "execute_result"
    }
   ],
   "source": [
    "to_replay.config"
   ]
  },
  {
   "cell_type": "code",
   "execution_count": 16,
   "metadata": {},
   "outputs": [
    {
     "name": "stdout",
     "output_type": "stream",
     "text": [
      "=================================\u001b[1m Tool Message \u001b[0m=================================\n",
      "Name: search_keyword\n",
      "\n",
      "[{\"url\": \"https://news.google.com/rss/articles/CBMiakFVX3lxTE9PTTNKM2pLRXlvN3dzckxpeFJ3NFpRZU1mTTFxLVBXeGFpX0lISWY2MjNYV2E2cXdlZkFlRUw5S25SRldtN2dzUnczcElRZ2xIa3BEbDQ4dGc2Q182OW5wTU9nOTVhSld2eHc?oc=5\", \"content\": \"오픈AI, 미국서 AI 에이전트 '오퍼레이터' 출시...\\\"곧 다른 국가에서도 공개\\\" - AI타임스\"}, {\"url\": \"https://news.google.com/rss/articles/CBMiXkFVX3lxTE5HaUJoVTJ0Q0JHSDhkQ0Z4VEJjdHhoWVZaRjdYTkVQMk8tblVlcTFOUFNNU19JX2xfbVA5TnYxeXZYRUlIWGVwZ1JpM202WlNSVk9vRE14eEJwYTZjd2fSAXZBVV95cUxNSzVORkZVY3E2Z1FQSkxNRW1tWVNydzZqa2o4NFJUWmxnV01aQ3ZQUGt3NzczeTZmOEtZMmhTaWV2VmExMGJ4Rm9HVlBSU1ZQN2xvc2NoVGQtVmFYNU92VS1BazRoNVpiTmpFd0ZfdXZBcmc4TUpB?oc=5\", \"content\": \"오픈AI, AI 에이전트 '오퍼레이터' 공개...예약·쇼핑 척척 - YTN\"}, {\"url\": \"https://news.google.com/rss/articles/CBMiW0FVX3lxTE1YWTRlTFpzX01xNTBIR1BzcE80SnRLYUtOZVZrd0hmRFJzU3B4N2VWeElySFJaZlJXREl1bEtwbGV2RU4zb2hzVHlpUkVyQk1RQ0o2Mi1jOFNROVnSAV5BVV95cUxPZHlkNmJOcnBaNjFWdFFPNWpLWmJGUGVjNkJzbC1jWFZQMWl4RHdXMDM5Y0FaQ3ZmS1ZqWlNveGVkWk1qMFhuTWpkaWp1OGVPUm5IM0F1OVpnbGI3aGNn?oc=5\", \"content\": \"오픈AI, AI 에이전트 '오퍼레이터' 공개…예약·쇼핑 척척 - 연합뉴스\"}, {\"url\": \"https://news.google.com/rss/articles/CBMic0FVX3lxTE5DeWtEZzQwc1NXczV2LVNpLXpWM2hHRmVIb3R4aTVkakF4LVlaOWhiSEhTb25sZVpPWXFtMkdpdmpWY2dPOHRsbGF3QlJybUxfcFFCMjFZcl9UOGNuR2FoMkZpQ3UtWGZBOTZNZkFBa1JRc2PSAWZBVV95cUxObXBrT1JSSlNMWGdoSXR3WndZQXpSZGRMZ09ha2M0S0d5Ty1RZmhLdTFCRXZLM0E0NFVHLWswLUpKVXcxeFY3b0xHV3BnRjBXWGFmeWNQY1BuRU5wUHBxNnVTUDM5Y2c?oc=5\", \"content\": \"빅테크 옆에 세운 트럼프 “AI 인프라에 753조원 투자” - 동아일보\"}, {\"url\": \"https://news.google.com/rss/articles/CBMigwFBVV95cUxOZkk4X1ZqbE03ZmhBcHliTWhTclc3dUtoSHFKVkZtQ0g5ZDlHYXotNzh1RjVZMzlHV2ZLa09mZlZBNjdDcERicWgwM1o1SHI4UlYyTW9CRjJJZkxXc1hwdmIzTVFkOXZrMTJRVG9LNWJNRnZrTzllNll5VmZYY212LWNCVQ?oc=5\", \"content\": \"‘AI 트리즘’으로 살펴보는 AI 신뢰성 - 주간경향\"}]\n",
      "==================================\u001b[1m Ai Message \u001b[0m==================================\n",
      "\n",
      "최신 AI 관련 뉴스는 다음과 같습니다:\n",
      "\n",
      "1. [오픈AI, 미국서 AI 에이전트 '오퍼레이터' 출시...\\\"곧 다른 국가에서도 공개\\\" - AI타임스](https://news.google.com/rss/articles/CBMiakFVX3lxTE9PTTNKM2pLRXlvN3dzckxpeFJ3NFpRZU1mTTFxLVBXeGFpX0lISWY2MjNYV2E2cXdlZkFlRUw5S25SRldtN2dzUnczcElRZ2xIa3BEbDQ4dGc2Q182OW5wTU9nOTVhSld2eHc?oc=5)\n",
      "\n",
      "2. [오픈AI, AI 에이전트 '오퍼레이터' 공개...예약·쇼핑 척척 - YTN](https://news.google.com/rss/articles/CBMiXkFVX3lxTE5HaUJoVTJ0Q0JHSDhkQ0Z4VEJjdHhoWVZaRjdYTkVQMk8tblVlcTFOUFNNU19JX2xfbVA5TnYxeXZYRUlIWGVwZ1JpM202WlNSVk9vRE14eEJwYTZjd2fSAXZBVV95cUxNSzVORkZVY3E2Z1FQSkxNRW1tWVNydzZqa2o4NFJUWmxnV01aQ3ZQUGt3NzczeTZmOEtZMmhTaWV2VmExMGJ4Rm9HVlBSU1ZQN2xvc2NoVGQtVmFYNU92VS1BazRoNVpiTmpFd0ZfdXZBcmc4TUpB?oc=5)\n",
      "\n",
      "3. [오픈AI, AI 에이전트 '오퍼레이터' 공개…예약·쇼핑 척척 - 연합뉴스](https://news.google.com/rss/articles/CBMic0FVX3lxTE1YWTRlTFpzX01xNTBIR1BzcE80SnRLYUtOZVZrd0hmRFJzU3B4N2VWeElySFJaZlJXREl1bEtwbGV2RU4zb2hzVHlpUkVyQk1RQ0o2Mi1jOFNROVnSAV5BVV95cUxPZHlkNmJOcnBaNjFWdFFPNWpLWmJGUGVjNkJzbC1jWFZQMWl4RHdXMDM5Y0FaQ3ZmS1ZqWlNveGVkWk1qMFhuTWpkaWp1OGVPUm5IM0F1OVpnbGI3aGNn?oc=5)\n",
      "\n",
      "4. [빅테크 옆에 세운 트럼프 “AI 인프라에 753조원 투자” - 동아일보](https://news.google.com/rss/articles/CBMic0FVX3lxTE5DeWtEZzQwc1NXczV2LVNpLXpWM2hHRmVIb3R4aTVkakF4LVlaOWhiSEhTb25sZVpPWXFtMkdpdmpWY2dPOHRsbGF3QlJybUxfcFFCMjFZcl9UOGNuR2FoMkZpQ3UtWGZBOTZNZkFBa1JRc2PSAWZBVV95cUxObXBrT1JSSlNMWGdoSXR3WndZQXpSZGRMZ09ha2M0S0d5Ty1RZmhLdTFCRXZLM0E0NFVHLWswLUpKVXcxeFY3b0xHV3BnRjBXWGFmeWNQY1BuRU5wUHBxNnVTUDM5Y2c?oc=5)\n",
      "\n",
      "5. [‘AI 트리즘’으로 살펴보는 AI 신뢰성 - 주간경향](https://news.google.com/rss/articles/CBMigwFBVV95cUxOZkk4X1ZqbE03ZmhBcHliTWhTclc3dUtoSHFKVkZtQ0g5ZDlHYXotNzh1RjVZMzlHV2ZLa09mZlZBNjdDcERicWgwM1o1SHI4UlYyTW9CRjJJZkxXc1hwdmIzTVFkOXZrMTJRVG9LNWJNRnZrTzllNll5VmZYY212LWNCVQ?oc=5)\n",
      "\n",
      "관심 있는 기사로 자세히 알아보세요!\n"
     ]
    }
   ],
   "source": [
    "# `to_replay.config`는 `checkpoint_id`는 체크포인터에 저장된 상태에 해당\n",
    "for event in graph.stream(None, to_replay.config, stream_mode=\"values\"):\n",
    "    # 메시지가 이벤트에 포함된 경우\n",
    "    if \"messages\" in event:\n",
    "        # 마지막 메시지 출력\n",
    "        event[\"messages\"][-1].pretty_print()"
   ]
  }
 ],
 "metadata": {
  "kernelspec": {
   "display_name": "venv",
   "language": "python",
   "name": "python3"
  },
  "language_info": {
   "codemirror_mode": {
    "name": "ipython",
    "version": 3
   },
   "file_extension": ".py",
   "mimetype": "text/x-python",
   "name": "python",
   "nbconvert_exporter": "python",
   "pygments_lexer": "ipython3",
   "version": "3.12.6"
  }
 },
 "nbformat": 4,
 "nbformat_minor": 2
}
